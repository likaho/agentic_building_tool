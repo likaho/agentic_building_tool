{
 "cells": [
  {
   "cell_type": "code",
   "execution_count": null,
   "metadata": {},
   "outputs": [],
   "source": [
    "from openapiutils import  get_function_details, create_function_call, generate_open_api_services, remove_openapi_files, create_function_names_docs_import_statements, clean_url, generate_hash\n",
    "user_query = \"Hey how is the current weather and windspeed in London?\"\n",
    "function_details = get_function_details(user_query)\n",
    "print(function_details)"
   ]
  },
  {
   "cell_type": "code",
   "execution_count": null,
   "metadata": {},
   "outputs": [],
   "source": [
    "function_call = create_function_call(user_query, function_details[\"documents\"])\n",
    "if function_call.startswith(\"no_op(\"):\n",
    "    # forward to a LLM \n",
    "    print(\"no_op\")\n",
    "else :\n",
    "    # check if the parameters are valid\n",
    "    # call the function\n",
    "    print(function_details[\"documents\"] )\n",
    "    print((function_details[\"metadatas\"][0][0][\"function_name\"]) )\n",
    "    openapi_url = function_details[\"metadatas\"][0][0][\"openapi_uri\"]\n",
    "    service_url = function_details[\"metadatas\"][0][0][\"end_point\"]\n",
    "    import_statement = function_details[\"metadatas\"][0][0][\"import_statement\"]\n",
    "\n",
    "    output_dir = generate_hash(clean_url(openapi_url))\n",
    "    generate_open_api_services(openapi_url, service_url, output_dir)\n",
    "\n",
    "    exec(import_statement)\n",
    "    print(function_call)\n",
    "    result = eval(function_call)\n",
    "\n",
    "    from threading import Thread\n",
    "    # Create a thread object with the worker function and data\n",
    "    thread = Thread(target=remove_openapi_files, args=(output_dir,))\n",
    "    thread.start()  \n",
    "    # return result\n",
    "\n"
   ]
  },
  {
   "cell_type": "code",
   "execution_count": null,
   "metadata": {},
   "outputs": [],
   "source": [
    "import os\n",
    "directory_path = 'a41cc9d3b6585b73a594eb1cb0cab5fcd3f67dad09b45c4572583da07b3cc751'\n",
    "import shutil\n",
    "if os.path.exists(directory_path):\n",
    "    shutil.rmtree(directory_path)"
   ]
  }
 ],
 "metadata": {
  "kernelspec": {
   "display_name": "venv",
   "language": "python",
   "name": "python3"
  },
  "language_info": {
   "codemirror_mode": {
    "name": "ipython",
    "version": 3
   },
   "file_extension": ".py",
   "mimetype": "text/x-python",
   "name": "python",
   "nbconvert_exporter": "python",
   "pygments_lexer": "ipython3",
   "version": "3.12.3"
  }
 },
 "nbformat": 4,
 "nbformat_minor": 2
}
